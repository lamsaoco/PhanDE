{
 "cells": [
  {
   "cell_type": "code",
   "execution_count": null,
   "id": "b92a8b4d-1c8b-484a-801e-271261918eb5",
   "metadata": {},
   "outputs": [],
   "source": []
  }
 ],
 "metadata": {
  "kernelspec": {
   "display_name": "",
   "name": ""
  },
  "language_info": {
   "name": ""
  }
 },
 "nbformat": 4,
 "nbformat_minor": 5
}
